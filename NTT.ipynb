{
 "cells": [
  {
   "cell_type": "code",
   "execution_count": 385,
   "id": "d27dfa39",
   "metadata": {},
   "outputs": [],
   "source": [
    "import os \n",
    "import json\n",
    "from langgraph.graph import StateGraph,START,END\n",
    "from typing import TypedDict,Dict,List,Any\n",
    "import pymongo\n",
    "from langchain_openai import AzureChatOpenAI\n",
    "from langchain.prompts import PromptTemplate\n",
    "\n",
    "from dotenv import load_dotenv\n",
    "from datetime import datetime\n",
    "import re\n",
    "from config import ConfigData"
   ]
  },
  {
   "cell_type": "code",
   "execution_count": 386,
   "id": "a0b424a1",
   "metadata": {},
   "outputs": [
    {
     "data": {
      "text/plain": [
       "True"
      ]
     },
     "execution_count": 386,
     "metadata": {},
     "output_type": "execute_result"
    }
   ],
   "source": [
    "load_dotenv()"
   ]
  },
  {
   "cell_type": "code",
   "execution_count": 387,
   "id": "940bfafb",
   "metadata": {},
   "outputs": [],
   "source": [
    "class MongoDBAgent:\n",
    "    def __init__(self, uri: str, db_name: str, default_collection: str):\n",
    "        import pymongo\n",
    "        self.client = pymongo.MongoClient(uri)\n",
    "        self.db = self.client[db_name]\n",
    "        self.default_collection_name = default_collection\n",
    "\n",
    "    def list_collections(self):\n",
    "        return self.db.list_collection_names()\n",
    "\n",
    "    def get_collection(self, name: str):\n",
    "        return self.db[name]\n",
    "\n",
    "    def validate_collection(self, name: str):\n",
    "        return name in self.list_collections()\n",
    "\n",
    "    def get_default_collection(self):\n",
    "        \"\"\"Return the default collection as pymongo Collection object\"\"\"\n",
    "        return self.db[self.default_collection_name]\n",
    "\n",
    "MONGO_URI = \"mongodb://localhost:27017/mydatabase\"\n",
    "MONGO_DB = \"ASD\"\n",
    "DEFAULT_COLLECTION = \"2025-05-13\"\n",
    "\n",
    "\n",
    "mongo_agent = MongoDBAgent(MONGO_URI, MONGO_DB, DEFAULT_COLLECTION)\n",
    "collection = mongo_agent.get_default_collection()"
   ]
  },
  {
   "cell_type": "code",
   "execution_count": 388,
   "id": "6711d120",
   "metadata": {},
   "outputs": [],
   "source": [
    "llm = AzureChatOpenAI(\n",
    "    azure_deployment=os.getenv(\"AZURE_OPENAI_DEPLOYMENT_NAME\"),\n",
    "    api_version=os.getenv(\"AZURE_OPENAI_API_VERSION\"),\n",
    "    temperature=0.3\n",
    ")"
   ]
  },
  {
   "cell_type": "code",
   "execution_count": 389,
   "id": "ac1bd315",
   "metadata": {},
   "outputs": [],
   "source": [
    "\n",
    "class State(TypedDict, total=False):\n",
    "    date: str                          # which collection to use\n",
    "    formula_included: bool             # true if formula/report is detected\n",
    "    formula_list_included: list[dict]  # list of formula(s) matched from json\n",
    "    query: str                         # MongoDB query generated\n",
    "    result: Any                        # query result\n",
    "    user_question: str \n",
    "\n"
   ]
  },
  {
   "cell_type": "code",
   "execution_count": 390,
   "id": "a018b32d",
   "metadata": {},
   "outputs": [],
   "source": [
    "date_prompt = PromptTemplate(\n",
    "    template=\"\"\"\n",
    "You are an intelligent assistant that selects the correct MongoDB collection name.\n",
    "\n",
    "Rules:\n",
    "- If the user mentions \"today\" or \"todays\", return today's date in format YYYY-MM-DD.\n",
    "- If the user mentions a specific date (e.g., 2025-08-01, 1st August 2025, Aug 1 2025), convert it to YYYY-MM-DD format.\n",
    "- If no date is mentioned, return the default collection: {default_collection}.\n",
    "- Output ONLY the date string, nothing else.\n",
    "\n",
    "Today's Date: {today}\n",
    "\n",
    "User Question: {user_question}\n",
    "\"\"\",\n",
    "    input_variables=[\"user_question\", \"default_collection\", \"today\"]\n",
    ")"
   ]
  },
  {
   "cell_type": "code",
   "execution_count": 391,
   "id": "ba3e5609",
   "metadata": {},
   "outputs": [],
   "source": [
    "def date_agent(state: State) -> State:\n",
    "    user_q = state.get(\"user_question\", \"\")\n",
    "    \n",
    "    prompt_text = date_prompt.format(\n",
    "        user_question=user_q,\n",
    "        default_collection=DEFAULT_COLLECTION,\n",
    "        today=datetime.now().strftime(\"%Y-%m-%d\"),\n",
    "    )\n",
    "    \n",
    "    raw = llm.invoke(prompt_text).content.strip()\n",
    "    \n",
    "    # validate\n",
    "    # match = re.search(r\"\\d{4}-\\d{2}-\\d{2}\", raw)\n",
    "    # date_str = match.group(0) if match else DEFAULT_COLLECTION\n",
    "    # if not mongo_agent.validate_collection(date_str):\n",
    "    #     date_str = DEFAULT_COLLECTION\n",
    "    \n",
    "    state[\"date\"] = raw\n",
    "    return state"
   ]
  },
  {
   "cell_type": "code",
   "execution_count": null,
   "id": "54ba9f42",
   "metadata": {},
   "outputs": [],
   "source": []
  },
  {
   "cell_type": "code",
   "execution_count": 392,
   "id": "52adff4a",
   "metadata": {},
   "outputs": [],
   "source": [
    "with open(\"formulas.json\", \"r\") as f:\n",
    "    FORMULAS = json.load(f)"
   ]
  },
  {
   "cell_type": "code",
   "execution_count": 393,
   "id": "57e364d7",
   "metadata": {},
   "outputs": [],
   "source": [
    "formula_prompt = PromptTemplate.from_template(\"\"\"\n",
    "You are an expert in parcel sorting systems and PLC-based data analysis. \n",
    "Your task is to detect if the user explicitly requests an analysis formula.\n",
    "\n",
    "Available formulas: {formula_keys}\n",
    "\n",
    "User Question: {user_question}\n",
    "\n",
    "Rules:\n",
    "- Carefully interpret the user request in the context of parcel sorting and reporting.\n",
    "- Select one or more formula names from the list if the request is clearly referring to them,\n",
    "  even if the wording is slightly different (e.g., \"sortation result\" = \"sort_report\").\n",
    "- Only output formula names that semantically match the user request.\n",
    "- If none match, output exactly \"NONE\".\n",
    "- Output must contain only the formula name(s) or \"NONE\" (no extra text).\n",
    "\"\"\")\n",
    "\n",
    "\n",
    "def check_if_formula_matches(state: State) -> State:\n",
    "    user_q = state.get(\"user_question\", \"\")\n",
    "    \n",
    "    prompt_text = formula_prompt.format(\n",
    "        formula_keys=list(FORMULAS.keys()),\n",
    "        user_question=user_q\n",
    "    )\n",
    "    \n",
    "    raw = llm.invoke(prompt_text).content.strip()\n",
    "    \n",
    "    if raw.upper() == \"NONE\":\n",
    "        state[\"formula_included\"] = False\n",
    "        state[\"formula_list_included\"] = []\n",
    "    else:\n",
    "        matched = [name.strip() for name in raw.split(\",\") if name.strip() in FORMULAS]\n",
    "        if matched:\n",
    "            state[\"formula_included\"] = True\n",
    "            state[\"formula_list_included\"] = [{m: FORMULAS[m]} for m in matched]\n",
    "        else:\n",
    "            state[\"formula_included\"] = False\n",
    "            state[\"formula_list_included\"] = []\n",
    "    \n",
    "    return state"
   ]
  },
  {
   "cell_type": "code",
   "execution_count": 394,
   "id": "af64a7d2",
   "metadata": {},
   "outputs": [],
   "source": [
    "from config import ConfigData\n",
    "table_schema = ConfigData.TABLE_SCHEMA\n",
    "schema_description = ConfigData.SCHEMA_DESCRIPTION"
   ]
  },
  {
   "cell_type": "code",
   "execution_count": null,
   "id": "96b27ecb",
   "metadata": {},
   "outputs": [],
   "source": [
    "def generate_query_from_formula(state: State) -> State:\n",
    "    user_q = state[\"user_question\"]\n",
    "    included_formulas = state.get(\"formula_list_included\", [])\n",
    "\n",
    "    # Format formulas nicely for LLM\n",
    "    formulas_text = \"\\n\".join([str(f) for f in included_formulas]) if included_formulas else \"None\"\n",
    "\n",
    "    prompt_text = f\"\"\"\n",
    "You are a MongoDB aggregation pipeline generator.\n",
    "\n",
    "User Question:\n",
    "{user_q}\n",
    "\n",
    "MongoDB Schema:\n",
    "{table_schema}\n",
    "\n",
    "Sample formulas that might be useful:\n",
    "{formulas_text}\n",
    "\n",
    "⚠️ Rules:\n",
    "1. Only return valid Python code. don t return anything else.\n",
    "2. Do NOT use triple backticks (```).\n",
    "3. Do NOT use print().\n",
    "4. Always assign the pipeline to a variable called `pipeline`.\n",
    "6. You can refere sample formulas above to construct the pipeline.and make changes as per user question.\n",
    "7. don't mention any date in query\n",
    "8. if there are more than one formula in sample formula you have to combine them to make query of combination of them.\n",
    "\n",
    "9. Assume later the query will be executed as:\n",
    "       result = list(collection.aggregate(pipeline))\n",
    "10. Do NOT generate `collection.find()` or `count_documents()`, only aggregation pipelines.\n",
    "11. Do NOT consider any date filter; collection name itself is the date.\n",
    "\"\"\"\n",
    "\n",
    "    raw_code = llm.invoke(prompt_text).content.strip()\n",
    "    raw_code = raw_code.replace(\"```\", \"\").strip()\n",
    "\n",
    "    # Ensure final output is assigned to pipeline\n",
    "    if not raw_code.strip().startswith(\"pipeline =\"):\n",
    "        raw_code = f\"pipeline = {raw_code}\"\n",
    "\n",
    "    state[\"query\"] = raw_code\n",
    "    return state\n"
   ]
  },
  {
   "cell_type": "code",
   "execution_count": 396,
   "id": "0f4b0444",
   "metadata": {},
   "outputs": [],
   "source": [
    "def execute_agent(state: State) -> State:\n",
    "    query_code = state.get(\"query\", \"\")\n",
    "    date_str = state.get(\"date\", DEFAULT_COLLECTION)\n",
    "\n",
    "    # Get the correct collection based on date\n",
    "    if mongo_agent.validate_collection(date_str):\n",
    "        collection = mongo_agent.get_collection(date_str)\n",
    "    else:\n",
    "        collection = mongo_agent.get_default_collection()\n",
    "\n",
    "    # Prepare the local environment for exec\n",
    "    local_env = {\"collection\": collection, \"list\": list}\n",
    "\n",
    "    try:\n",
    "        exec(query_code, {}, local_env)\n",
    "        pipeline = local_env.get(\"pipeline\", [])\n",
    "        result = list(collection.aggregate(pipeline))\n",
    "        state[\"result\"] = result\n",
    "    except Exception as e:\n",
    "        state[\"result\"] = f\"Error executing query: {e}\"\n",
    "\n",
    "    return state"
   ]
  },
  {
   "cell_type": "code",
   "execution_count": 397,
   "id": "97bbce14",
   "metadata": {},
   "outputs": [],
   "source": [
    "\n",
    "\n",
    "graph = StateGraph(State)\n",
    "\n",
    "\n",
    "graph.add_node(\"date_agent\", date_agent)\n",
    "graph.add_node(\"check_if_formula_matches\", check_if_formula_matches)\n",
    "graph.add_node(\"generate_query_from_formula\", generate_query_from_formula)\n",
    "graph.add_node(\"execute_agent\", execute_agent)\n",
    "\n",
    "\n",
    "\n",
    "# --- Entry ---\n",
    "graph.add_edge(START, \"date_agent\")\n",
    "graph.add_edge(\"date_agent\", \"check_if_formula_matches\")\n",
    "graph.add_edge(\"check_if_formula_matches\", \"generate_query_from_formula\")\n",
    "graph.add_edge(\"generate_query_from_formula\", \"execute_agent\")\n",
    "graph.add_edge(\"execute_agent\", END)\n",
    "\n",
    "\n",
    "# --- Compile ---\n",
    "app = graph.compile()\n"
   ]
  },
  {
   "cell_type": "code",
   "execution_count": null,
   "id": "50a35e95",
   "metadata": {},
   "outputs": [],
   "source": []
  },
  {
   "cell_type": "code",
   "execution_count": 398,
   "id": "b314f5f1",
   "metadata": {},
   "outputs": [
    {
     "name": "stdout",
     "output_type": "stream",
     "text": [
      "Final Result: []\n",
      "date 2025-05-13\n",
      "formula_include [{'get_message_count_all_messages': [{'$unwind': '$events'}, {'$group': {'_id': '$events.type', 'count': {'$sum': 1}}}, {'$group': {'_id': 0, 'counts': {'$push': {'k': '$_id', 'v': '$count'}}}}, {'$replaceRoot': {'newRoot': {'$arrayToObject': '$counts'}}}]}]\n",
      "actual_used pipeline = [\n",
      "    {'$unwind': '$messages'},\n",
      "    {'$group': {'_id': '$messages.type', 'count': {'$sum': 1}}},\n",
      "    {'$group': {'_id': 0, 'counts': {'$push': {'k': '$_id', 'v': '$count'}}}},\n",
      "    {'$replaceRoot': {'newRoot': {'$arrayToObject': '$counts'}}}\n",
      "]\n"
     ]
    }
   ],
   "source": [
    "result = app.invoke({\"user_question\": \"Share the total count of of each message\"})\n",
    "print(\"Final Result:\", result[\"result\"])\n",
    "print(\"date\",result[\"date\"])\n",
    "print(\"formula_include\",result[\"formula_list_included\"])\n",
    "print(\"actual_used\",result[\"query\"]) "
   ]
  },
  {
   "cell_type": "code",
   "execution_count": null,
   "id": "c3608b2b",
   "metadata": {},
   "outputs": [],
   "source": []
  },
  {
   "cell_type": "code",
   "execution_count": null,
   "id": "22cbcc57",
   "metadata": {},
   "outputs": [],
   "source": []
  }
 ],
 "metadata": {
  "kernelspec": {
   "display_name": "Python 3",
   "language": "python",
   "name": "python3"
  },
  "language_info": {
   "codemirror_mode": {
    "name": "ipython",
    "version": 3
   },
   "file_extension": ".py",
   "mimetype": "text/x-python",
   "name": "python",
   "nbconvert_exporter": "python",
   "pygments_lexer": "ipython3",
   "version": "3.13.3"
  }
 },
 "nbformat": 4,
 "nbformat_minor": 5
}
